{
 "cells": [
  {
   "cell_type": "code",
   "execution_count": 70,
   "metadata": {},
   "outputs": [
    {
     "ename": "SyntaxError",
     "evalue": "'(' was never closed (3046696848.py, line 44)",
     "output_type": "error",
     "traceback": [
      "\u001b[1;36m  Cell \u001b[1;32mIn[70], line 44\u001b[1;36m\u001b[0m\n\u001b[1;33m    plt.text(X_axis[i] + width, Y_group3[i], str(Y_group3[i], ha='center', va='bottom')\u001b[0m\n\u001b[1;37m            ^\u001b[0m\n\u001b[1;31mSyntaxError\u001b[0m\u001b[1;31m:\u001b[0m '(' was never closed\n"
     ]
    }
   ],
   "source": [
    "import numpy as np\n",
    "import matplotlib.pyplot as plt\n",
    "\n",
    "# Define the data\n",
    "X = ['Quarter 0', 'Quarter 1', 'Quarter 2', 'Quarter 3', 'Quarter 4']\n",
    "Y_group1 = [0.76, 0.65, 0.50, 0.42, 0.22]\n",
    "Y_group2 = [0.70, 0.67, 0.51, 0.40, 0.19]\n",
    "Y_group3 = [0.91, 0.88, 0.80, 0.76, 0.73]\n",
    "\n",
    "# Calculate standard errors (example values, replace with your actual values)\n",
    "std_error_group1 = [0.02, 0.028, 0.05, 0.03, 0.02]\n",
    "std_error_group2 = [0.04, 0.028, 0.023, 0.011, 0.03]\n",
    "std_error_group3 = [0.03, 0.028, 0.0122, 0.013, 0.03]\n",
    "\n",
    "# Create a range for the x-axis\n",
    "X_axis = np.arange(len(X))\n",
    "\n",
    "# Plot the bars\n",
    "width = 0.25 # Width of the bars\n",
    "bars_group1 = plt.bar(X_axis - width, Y_group1, width, label='EVP Smokers', yerr=std_error_group1, capsize=3)\n",
    "bars_group2 = plt.bar(X_axis, Y_group2, width, label='Cigarette Smokers', yerr=std_error_group2, capsize=3)\n",
    "bars_group3 = plt.bar(X_axis + width, Y_group3, width, label='Non-Smokers', yerr=std_error_group3, capsize=3)\n",
    "\n",
    "#Add stat diff\n",
    "xOff = -0.1\n",
    "for i in range(len(X_axis)):\n",
    "    if (Y_group3[i] - (Y_group2[i] + Y_group1[i]) > 0):\n",
    "        plt.text(xOff, 0.70, '**')\n",
    "    elif (Y_group3[i] - (Y_group2[i] + Y_group1[i]) > -0.25):\n",
    "        plt.text(xOff,  0.75, '*')\n",
    "    xOff += 1\n",
    "\n",
    "# Customize the plot\n",
    "plt.xlabel(\"Quarters (10 Years Total)\")\n",
    "plt.ylabel(\"% of Undamaged p53 Gene\")\n",
    "plt.title(\"Comparison of Undamaged p53 Genes Between EVP and Cigarette Smokers vs Non-Smokers\")\n",
    "plt.xticks(X_axis, X)\n",
    "plt.legend(loc = 'upper right')\n",
    "\n",
    "# Add data label for bars\n",
    "for i in range(len(X_axis)):\n",
    "    plt.text(X_axis[i] - width, Y_group1[i], str(Y_group1[i]), ha='center', va='bottom')\n",
    "    plt.text(X_axis[i], Y_group2[i], str(Y_group2[i]), ha='center', va='bottom')\n",
    "    plt.text(X_axis[i] + width, Y_group3[i], str(Y_group3[i]), ha='center', va='bottom')\n",
    "\n",
    "\n",
    "# Show the plot\n",
    "plt.show()"
   ]
  }
 ],
 "metadata": {
  "kernelspec": {
   "display_name": "venv",
   "language": "python",
   "name": "python3"
  },
  "language_info": {
   "codemirror_mode": {
    "name": "ipython",
    "version": 3
   },
   "file_extension": ".py",
   "mimetype": "text/x-python",
   "name": "python",
   "nbconvert_exporter": "python",
   "pygments_lexer": "ipython3",
   "version": "3.12.0"
  },
  "orig_nbformat": 4
 },
 "nbformat": 4,
 "nbformat_minor": 2
}
